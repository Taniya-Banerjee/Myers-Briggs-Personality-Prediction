{
 "cells": [
  {
   "cell_type": "code",
   "execution_count": 2,
   "id": "dc06ea3c",
   "metadata": {},
   "outputs": [
    {
     "name": "stderr",
     "output_type": "stream",
     "text": [
      "[nltk_data] Downloading package stopwords to\n",
      "[nltk_data]     /Users/taniyabanerjee/nltk_data...\n",
      "[nltk_data]   Package stopwords is already up-to-date!\n"
     ]
    },
    {
     "data": {
      "text/plain": [
       "True"
      ]
     },
     "execution_count": 2,
     "metadata": {},
     "output_type": "execute_result"
    }
   ],
   "source": [
    "import nltk\n",
    "nltk.download('stopwords')"
   ]
  },
  {
   "cell_type": "code",
   "execution_count": 3,
   "id": "d336900e",
   "metadata": {},
   "outputs": [
    {
     "name": "stderr",
     "output_type": "stream",
     "text": [
      "[nltk_data] Downloading package wordnet to\n",
      "[nltk_data]     /Users/taniyabanerjee/nltk_data...\n",
      "[nltk_data]   Package wordnet is already up-to-date!\n"
     ]
    },
    {
     "data": {
      "text/plain": [
       "True"
      ]
     },
     "execution_count": 3,
     "metadata": {},
     "output_type": "execute_result"
    }
   ],
   "source": [
    "import nltk\n",
    "nltk.download('wordnet')"
   ]
  },
  {
   "cell_type": "code",
   "execution_count": 4,
   "id": "ebb58a53",
   "metadata": {},
   "outputs": [
    {
     "name": "stdout",
     "output_type": "stream",
     "text": [
      "Requirement already satisfied: wordcloud in /Users/taniyabanerjee/anaconda3/lib/python3.10/site-packages (1.9.3)\n",
      "Requirement already satisfied: pillow in /Users/taniyabanerjee/anaconda3/lib/python3.10/site-packages (from wordcloud) (9.4.0)\n",
      "Requirement already satisfied: matplotlib in /Users/taniyabanerjee/anaconda3/lib/python3.10/site-packages (from wordcloud) (3.7.0)\n",
      "Requirement already satisfied: numpy>=1.6.1 in /Users/taniyabanerjee/anaconda3/lib/python3.10/site-packages (from wordcloud) (1.23.5)\n",
      "Requirement already satisfied: python-dateutil>=2.7 in /Users/taniyabanerjee/anaconda3/lib/python3.10/site-packages (from matplotlib->wordcloud) (2.8.2)\n",
      "Requirement already satisfied: contourpy>=1.0.1 in /Users/taniyabanerjee/anaconda3/lib/python3.10/site-packages (from matplotlib->wordcloud) (1.0.5)\n",
      "Requirement already satisfied: packaging>=20.0 in /Users/taniyabanerjee/anaconda3/lib/python3.10/site-packages (from matplotlib->wordcloud) (22.0)\n",
      "Requirement already satisfied: pyparsing>=2.3.1 in /Users/taniyabanerjee/anaconda3/lib/python3.10/site-packages (from matplotlib->wordcloud) (3.0.9)\n",
      "Requirement already satisfied: fonttools>=4.22.0 in /Users/taniyabanerjee/anaconda3/lib/python3.10/site-packages (from matplotlib->wordcloud) (4.25.0)\n",
      "Requirement already satisfied: kiwisolver>=1.0.1 in /Users/taniyabanerjee/anaconda3/lib/python3.10/site-packages (from matplotlib->wordcloud) (1.4.4)\n",
      "Requirement already satisfied: cycler>=0.10 in /Users/taniyabanerjee/anaconda3/lib/python3.10/site-packages (from matplotlib->wordcloud) (0.11.0)\n",
      "Requirement already satisfied: six>=1.5 in /Users/taniyabanerjee/anaconda3/lib/python3.10/site-packages (from python-dateutil>=2.7->matplotlib->wordcloud) (1.16.0)\n",
      "Note: you may need to restart the kernel to use updated packages.\n"
     ]
    }
   ],
   "source": [
    "pip install wordcloud"
   ]
  },
  {
   "cell_type": "code",
   "execution_count": 5,
   "id": "851d1719",
   "metadata": {},
   "outputs": [],
   "source": [
    "import pandas as pd\n",
    "import seaborn as sns\n",
    "import numpy as np\n",
    "import re\n",
    "from tqdm import tqdm\n",
    "from nltk.stem import WordNetLemmatizer\n",
    "from nltk.corpus import stopwords\n",
    "import matplotlib.pyplot as plt\n",
    "import plotly.express as px\n",
    "from wordcloud import WordCloud\n"
   ]
  },
  {
   "cell_type": "code",
   "execution_count": 6,
   "id": "8226c21e",
   "metadata": {},
   "outputs": [
    {
     "data": {
      "text/html": [
       "<div>\n",
       "<style scoped>\n",
       "    .dataframe tbody tr th:only-of-type {\n",
       "        vertical-align: middle;\n",
       "    }\n",
       "\n",
       "    .dataframe tbody tr th {\n",
       "        vertical-align: top;\n",
       "    }\n",
       "\n",
       "    .dataframe thead th {\n",
       "        text-align: right;\n",
       "    }\n",
       "</style>\n",
       "<table border=\"1\" class=\"dataframe\">\n",
       "  <thead>\n",
       "    <tr style=\"text-align: right;\">\n",
       "      <th></th>\n",
       "      <th>type</th>\n",
       "      <th>posts</th>\n",
       "    </tr>\n",
       "  </thead>\n",
       "  <tbody>\n",
       "    <tr>\n",
       "      <th>0</th>\n",
       "      <td>INFJ</td>\n",
       "      <td>http://www.youtube.com/watch?v=qsXHcwe3krw|||h...</td>\n",
       "    </tr>\n",
       "    <tr>\n",
       "      <th>1</th>\n",
       "      <td>ENTP</td>\n",
       "      <td>I'm finding the lack of me in these posts very...</td>\n",
       "    </tr>\n",
       "    <tr>\n",
       "      <th>2</th>\n",
       "      <td>INTP</td>\n",
       "      <td>Good one  _____   https://www.youtube.com/watc...</td>\n",
       "    </tr>\n",
       "    <tr>\n",
       "      <th>3</th>\n",
       "      <td>INTJ</td>\n",
       "      <td>Dear INTP,   I enjoyed our conversation the ot...</td>\n",
       "    </tr>\n",
       "    <tr>\n",
       "      <th>4</th>\n",
       "      <td>ENTJ</td>\n",
       "      <td>You're fired.|||That's another silly misconcep...</td>\n",
       "    </tr>\n",
       "    <tr>\n",
       "      <th>5</th>\n",
       "      <td>INTJ</td>\n",
       "      <td>18/37 @.@|||Science  is not perfect. No scient...</td>\n",
       "    </tr>\n",
       "    <tr>\n",
       "      <th>6</th>\n",
       "      <td>INFJ</td>\n",
       "      <td>No, I can't draw on my own nails (haha). Those...</td>\n",
       "    </tr>\n",
       "    <tr>\n",
       "      <th>7</th>\n",
       "      <td>INTJ</td>\n",
       "      <td>I tend to build up a collection of things on m...</td>\n",
       "    </tr>\n",
       "    <tr>\n",
       "      <th>8</th>\n",
       "      <td>INFJ</td>\n",
       "      <td>I'm not sure, that's a good question. The dist...</td>\n",
       "    </tr>\n",
       "    <tr>\n",
       "      <th>9</th>\n",
       "      <td>INTP</td>\n",
       "      <td>https://www.youtube.com/watch?v=w8-egj0y8Qs|||...</td>\n",
       "    </tr>\n",
       "  </tbody>\n",
       "</table>\n",
       "</div>"
      ],
      "text/plain": [
       "   type                                              posts\n",
       "0  INFJ  http://www.youtube.com/watch?v=qsXHcwe3krw|||h...\n",
       "1  ENTP  I'm finding the lack of me in these posts very...\n",
       "2  INTP  Good one  _____   https://www.youtube.com/watc...\n",
       "3  INTJ  Dear INTP,   I enjoyed our conversation the ot...\n",
       "4  ENTJ  You're fired.|||That's another silly misconcep...\n",
       "5  INTJ  18/37 @.@|||Science  is not perfect. No scient...\n",
       "6  INFJ  No, I can't draw on my own nails (haha). Those...\n",
       "7  INTJ  I tend to build up a collection of things on m...\n",
       "8  INFJ  I'm not sure, that's a good question. The dist...\n",
       "9  INTP  https://www.youtube.com/watch?v=w8-egj0y8Qs|||..."
      ]
     },
     "execution_count": 6,
     "metadata": {},
     "output_type": "execute_result"
    }
   ],
   "source": [
    "data_set = pd.read_csv(\"mbti_1 - mbti_1.csv\")\n",
    "data_set.head(10)"
   ]
  },
  {
   "cell_type": "code",
   "execution_count": 7,
   "id": "1ab0aedb",
   "metadata": {},
   "outputs": [
    {
     "name": "stdout",
     "output_type": "stream",
     "text": [
      "<class 'pandas.core.frame.DataFrame'>\n",
      "RangeIndex: 8675 entries, 0 to 8674\n",
      "Data columns (total 2 columns):\n",
      " #   Column  Non-Null Count  Dtype \n",
      "---  ------  --------------  ----- \n",
      " 0   type    8675 non-null   object\n",
      " 1   posts   8675 non-null   object\n",
      "dtypes: object(2)\n",
      "memory usage: 135.7+ KB\n"
     ]
    }
   ],
   "source": [
    "data_set.info()"
   ]
  },
  {
   "cell_type": "markdown",
   "id": "f1d059d0",
   "metadata": {},
   "source": [
    "*No null value present in the dataset*"
   ]
  },
  {
   "cell_type": "markdown",
   "id": "d8c08298",
   "metadata": {},
   "source": [
    "### DATA PRE-PROCESSING"
   ]
  },
  {
   "cell_type": "code",
   "execution_count": 8,
   "id": "a938e8cf",
   "metadata": {},
   "outputs": [
    {
     "data": {
      "text/plain": [
       "INFP    1832\n",
       "INFJ    1470\n",
       "INTP    1304\n",
       "INTJ    1091\n",
       "ENTP     685\n",
       "ENFP     675\n",
       "ISTP     337\n",
       "ISFP     271\n",
       "ENTJ     231\n",
       "ISTJ     205\n",
       "ENFJ     190\n",
       "ISFJ     166\n",
       "ESTP      89\n",
       "ESFP      48\n",
       "ESFJ      42\n",
       "ESTJ      39\n",
       "Name: type, dtype: int64"
      ]
     },
     "execution_count": 8,
     "metadata": {},
     "output_type": "execute_result"
    }
   ],
   "source": [
    "data_set.type.value_counts()"
   ]
  },
  {
   "cell_type": "code",
   "execution_count": 9,
   "id": "67be392d",
   "metadata": {},
   "outputs": [
    {
     "data": {
      "text/plain": [
       "<Axes: xlabel='count', ylabel='type'>"
      ]
     },
     "execution_count": 9,
     "metadata": {},
     "output_type": "execute_result"
    },
    {
     "data": {
      "image/png": "[encoded data removed]",
      "text/plain": [
       "<Figure size 640x480 with 1 Axes>"
      ]
     },
     "metadata": {},
     "output_type": "display_data"
    }
   ],
   "source": [
    "sns.countplot(data= data_set, y= 'type')"
   ]
  },
  {
   "cell_type": "code",
   "execution_count": 10,
   "id": "19bee915",
   "metadata": {},
   "outputs": [
    {
     "data": {
      "text/plain": [
       "\"http://www.youtube.com/watch?v=qsXHcwe3krw|||http://41.media.tumblr.com/tumblr_lfouy03PMA1qa1rooo1_500.jpg|||enfp and intj moments  https://www.youtube.com/watch?v=iz7lE1g4XM4  sportscenter not top ten plays  https://www.youtube.com/watch?v=uCdfze1etec  pranks|||What has been the most life-changing experience in your life?|||http://www.youtube.com/watch?v=vXZeYwwRDw8   http://www.youtube.com/watch?v=u8ejam5DP3E  On repeat for most of today.|||May the PerC Experience immerse you.|||The last thing my INFJ friend posted on his facebook before committing suicide the next day. Rest in peace~   http://vimeo.com/22842206|||Hello ENFJ7. Sorry to hear of your distress. It's only natural for a relationship to not be perfection all the time in every moment of existence. Try to figure the hard times as times of growth, as...|||84389  84390  http://wallpaperpassion.com/upload/23700/friendship-boy-and-girl-wallpaper.jpg  http://assets.dornob.com/wp-content/uploads/2010/04/round-home-design.jpg ...|||Welcome and stuff.|||http://playeressence.com/wp-content/uploads/2013/08/RED-red-the-pokemon-master-32560474-450-338.jpg  Game. Set. Match.|||Prozac, wellbrutin, at least thirty minutes of moving your legs (and I don't mean moving them while sitting in your same desk chair), weed in moderation (maybe try edibles as a healthier alternative...|||Basically come up with three items you've determined that each type (or whichever types you want to do) would more than likely use, given each types' cognitive functions and whatnot, when left by...|||All things in moderation.  Sims is indeed a video game, and a good one at that. Note: a good one at that is somewhat subjective in that I am not completely promoting the death of any given Sim...|||Dear ENFP:  What were your favorite video games growing up and what are your now, current favorite video games? :cool:|||https://www.youtube.com/watch?v=QyPqT8umzmY|||It appears to be too late. :sad:|||There's someone out there for everyone.|||Wait... I thought confidence was a good thing.|||I just cherish the time of solitude b/c i revel within my inner world more whereas most other time i'd be workin... just enjoy the me time while you can. Don't worry, people will always be around to...|||Yo entp ladies... if you're into a complimentary personality,well, hey.|||... when your main social outlet is xbox live conversations and even then you verbally fatigue quickly.|||http://www.youtube.com/watch?v=gDhy7rdfm14  I really dig the part from 1:46 to 2:50|||http://www.youtube.com/watch?v=msqXffgh7b8|||Banned because this thread requires it of me.|||Get high in backyard, roast and eat marshmellows in backyard while conversing over something intellectual, followed by massages and kisses.|||http://www.youtube.com/watch?v=Mw7eoU3BMbE|||http://www.youtube.com/watch?v=4V2uYORhQOk|||http://www.youtube.com/watch?v=SlVmgFQQ0TI|||Banned for too many b's in that sentence. How could you! Think of the B!|||Banned for watching movies in the corner with the dunces.|||Banned because Health class clearly taught you nothing about peer pressure.|||Banned for a whole host of reasons!|||http://www.youtube.com/watch?v=IRcrv41hgz4|||1) Two baby deer on left and right munching on a beetle in the middle.  2) Using their own blood, two cavemen diary today's latest happenings on their designated cave diary wall.  3) I see it as...|||a pokemon world  an infj society  everyone becomes an optimist|||49142|||http://www.youtube.com/watch?v=ZRCEq_JFeFM|||http://discovermagazine.com/2012/jul-aug/20-things-you-didnt-know-about-deserts/desert.jpg|||http://oyster.ignimgs.com/mediawiki/apis.ign.com/pokemon-silver-version/d/dd/Ditto.gif|||http://www.serebii.net/potw-dp/Scizor.jpg|||Not all artists are artists because they draw. It's the idea that counts in forming something of your own... like a signature.|||Welcome to the robot ranks, person who downed my self-esteem cuz I'm not an avid signature artist like herself. :proud:|||Banned for taking all the room under my bed. Ya gotta learn to share with the roaches.|||http://www.youtube.com/watch?v=w8IgImn57aQ|||Banned for being too much of a thundering, grumbling kind of storm... yep.|||Ahh... old high school music I haven't heard in ages.   http://www.youtube.com/watch?v=dcCRUPCdB1w|||I failed a public speaking class a few years ago and I've sort of learned what I could do better were I to be in that position again. A big part of my failure was just overloading myself with too...|||I like this person's mentality. He's a confirmed INTJ by the way. http://www.youtube.com/watch?v=hGKLI-GEc6M|||Move to the Denver area and start a new life for myself.'\""
      ]
     },
     "execution_count": 10,
     "metadata": {},
     "output_type": "execute_result"
    }
   ],
   "source": [
    "data_set.posts[0]\n"
   ]
  },
  {
   "cell_type": "markdown",
   "id": "1f8610f0",
   "metadata": {},
   "source": [
    "<b> From above we can see that we need to clean the text. </b>"
   ]
  },
  {
   "cell_type": "code",
   "execution_count": 11,
   "id": "4c05e43a",
   "metadata": {},
   "outputs": [],
   "source": [
    "lemmatizer = WordNetLemmatizer()\n",
    "useless_words = stopwords.words(\"english\")\n",
    "# unique_type_list = [x.lower() for x in ['INFJ', 'ENTP', 'INTP', 'INTJ', 'ENTJ', 'ENFJ', 'INFP', 'ENFP',\n",
    "#                                         'ISFP', 'ISTP', 'ISFJ', 'ISTJ', 'ESTP', 'ESFP', 'ESTJ', 'ESFJ']]\n",
    "\n",
    "def pre_process_sentence(sentence):\n",
    "    words_number = []\n",
    "    # Remove URL links\n",
    "    sentence=re.sub('https?://[^\\s<>\"]+|www\\.[^\\s<>\"]+',' ',sentence)\n",
    "    # Remove non-words and excess spaces\n",
    "    sentence = re.sub(r'[^a-zA-Z]+', ' ', sentence).lower()\n",
    "    # Remove repeating letters\n",
    "    sentence = re.sub(r'([a-z])\\1{2,}', '', sentence)\n",
    "    # Tokenize, remove stop words, and lemmatize\n",
    "    words = sentence.split()\n",
    "    words = [word for word in words if word not in useless_words]\n",
    "    words = [lemmatizer.lemmatize(word) for word in words]\n",
    "    sentence = ' '.join(words)\n",
    "    # Remove MBTI personality words if required\n",
    "#     if remove_mbti_profiles:\n",
    "#         sentence = re.sub(r'\\b(?:' + '|'.join(unique_type_list) + r')\\b', '', sentence)\n",
    "\n",
    "    return sentence"
   ]
  },
  {
   "cell_type": "code",
   "execution_count": 12,
   "id": "3af136a9",
   "metadata": {},
   "outputs": [],
   "source": [
    "# data_set['posts'] = data_set['posts'].apply(pre_process_sentence)\n",
    "# Clean text\n",
    "data_set.posts = data_set['posts'].apply(pre_process_sentence)\n",
    "\n"
   ]
  },
  {
   "cell_type": "code",
   "execution_count": 13,
   "id": "2d5a4090",
   "metadata": {},
   "outputs": [
    {
     "name": "stderr",
     "output_type": "stream",
     "text": [
      "[nltk_data] Downloading package omw-1.4 to\n",
      "[nltk_data]     /Users/taniyabanerjee/nltk_data...\n",
      "[nltk_data]   Package omw-1.4 is already up-to-date!\n"
     ]
    },
    {
     "data": {
      "text/plain": [
       "True"
      ]
     },
     "execution_count": 13,
     "metadata": {},
     "output_type": "execute_result"
    }
   ],
   "source": [
    "import nltk\n",
    "nltk.download('omw-1.4')"
   ]
  },
  {
   "cell_type": "code",
   "execution_count": 14,
   "id": "5c1ceece",
   "metadata": {},
   "outputs": [
    {
     "data": {
      "text/plain": [
       "array(['ENFJ', 'ENFP', 'ENTJ', 'ENTP', 'ESFJ', 'ESFP', 'ESTJ', 'ESTP',\n",
       "       'INFJ', 'INFP', 'INTJ', 'INTP', 'ISFJ', 'ISFP', 'ISTJ', 'ISTP'],\n",
       "      dtype=object)"
      ]
     },
     "execution_count": 14,
     "metadata": {},
     "output_type": "execute_result"
    }
   ],
   "source": [
    "from sklearn.preprocessing import LabelEncoder\n",
    "\n",
    "target_encoder=LabelEncoder()\n",
    "data_set['type_encoded']=target_encoder.fit_transform(data_set['type'])\n",
    "target_encoder.classes_\n"
   ]
  },
  {
   "cell_type": "code",
   "execution_count": null,
   "id": "ae534837",
   "metadata": {},
   "outputs": [],
   "source": []
  },
  {
   "cell_type": "markdown",
   "id": "c54cebda",
   "metadata": {},
   "source": [
    "### Separate dependent and independent features\n"
   ]
  },
  {
   "cell_type": "code",
   "execution_count": 15,
   "id": "8215e7f0",
   "metadata": {},
   "outputs": [],
   "source": [
    "X = data_set['posts']\n",
    "Y = data_set['type_encoded']"
   ]
  },
  {
   "cell_type": "markdown",
   "id": "1dff417f",
   "metadata": {},
   "source": [
    "### Split into training test data\n"
   ]
  },
  {
   "cell_type": "code",
   "execution_count": null,
   "id": "9bbfee0b",
   "metadata": {},
   "outputs": [],
   "source": []
  },
  {
   "cell_type": "code",
   "execution_count": 16,
   "id": "090b8d95",
   "metadata": {},
   "outputs": [],
   "source": [
    "from sklearn.model_selection import train_test_split\n",
    "\n",
    "x_test, x_train, y_test, y_train = train_test_split(X,Y, train_size=0.7, random_state=42,stratify=data_set.type)\n",
    "# # Stratify split to ensure equal distribution of data\n",
    "\n",
    "# train_data,test_data=train_test_split(data,test_size=0.2,random_state=42,stratify=data.type)"
   ]
  },
  {
   "cell_type": "code",
   "execution_count": 25,
   "id": "a0031677",
   "metadata": {},
   "outputs": [],
   "source": [
    "def output_status():\n",
    "    for x in range(16):\n",
    "        if type_encoded == 0:\n",
    "            return \"ENFJ\"\n",
    "    elif type_encoded == 1:\n",
    "        return\"ENFP\"\n",
    "    elif type_encoded == 2:\n",
    "        return\"ENTJ\"\n",
    "    elif type_encoded == 3:\n",
    "        return\"ENTP\"\n",
    "    elif type_encoded == 4:\n",
    "        return\"ESFJ\"\n",
    "    elif type_encoded == 5:\n",
    "        return\"ESFP\"\n",
    "    elif type_encoded == 6:\n",
    "        return\"ESTJ\"\n",
    "    elif type_encoded == 7:\n",
    "        return\"ESTP\"\n",
    "    elif type_encoded == 8:\n",
    "        return\"INFJ\"\n",
    "    elif type_encoded == 9:\n",
    "        return\"INFP\"\n",
    "    elif type_encoded == 10:\n",
    "        return\"INTJ\"\n",
    "    elif type_encoded == 11:\n",
    "        return\"INTP\"\n",
    "    elif type_encoded == 12:\n",
    "        return\"ISFJ\"\n",
    "    elif type_encoded == 13:\n",
    "        return\"ISFP\"\n",
    "    elif type_encoded == 14:\n",
    "        return\"ISTJ\"\n",
    "    elif type_encoded == 15:\n",
    "        return\"ISTP\""
   ]
  },
  {
   "cell_type": "code",
   "execution_count": 26,
   "id": "4ef310a3",
   "metadata": {},
   "outputs": [
    {
     "ename": "NameError",
     "evalue": "name 'type_encoded' is not defined",
     "output_type": "error",
     "traceback": [
      "\u001b[0;31m---------------------------------------------------------------------------\u001b[0m",
      "\u001b[0;31mNameError\u001b[0m                                 Traceback (most recent call last)",
      "Cell \u001b[0;32mIn[26], line 1\u001b[0m\n\u001b[0;32m----> 1\u001b[0m px\u001b[38;5;241m.\u001b[39mpie(y_train,names\u001b[38;5;241m=\u001b[39moutput_status(\u001b[43mtype_encoded\u001b[49m),title\u001b[38;5;241m=\u001b[39m\u001b[38;5;124m'\u001b[39m\u001b[38;5;124mPersonality type\u001b[39m\u001b[38;5;124m'\u001b[39m,hole\u001b[38;5;241m=\u001b[39m\u001b[38;5;241m0.3\u001b[39m)\n",
      "\u001b[0;31mNameError\u001b[0m: name 'type_encoded' is not defined"
     ]
    }
   ],
   "source": [
    "px.pie(y_train,names=output_status(type_encoded),title='Personality type',hole=0.3)\n"
   ]
  },
  {
   "cell_type": "code",
   "execution_count": null,
   "id": "1b29eea5",
   "metadata": {},
   "outputs": [],
   "source": [
    "px.pie(y_test,names='type',title='Personality type',hole=0.3)\n"
   ]
  },
  {
   "cell_type": "code",
   "execution_count": null,
   "id": "3be8a01e",
   "metadata": {},
   "outputs": [],
   "source": [
    "# The distribution for test and train data sets are equal. "
   ]
  },
  {
   "cell_type": "markdown",
   "id": "498f911e",
   "metadata": {},
   "source": [
    "### Tokenizing vector "
   ]
  },
  {
   "cell_type": "code",
   "execution_count": null,
   "id": "0af3dbde",
   "metadata": {},
   "outputs": [],
   "source": [
    "from sklearn.feature_extraction.text import TfidfVectorizer\n",
    "vectorization = TfidfVectorizer(stop_words='english')\n",
    "\n",
    "xv_train = vectorization.fit_transform(x_train)\n",
    "xv_test = vectorization.transform(x_test) "
   ]
  },
  {
   "cell_type": "code",
   "execution_count": null,
   "id": "56b78fe3",
   "metadata": {},
   "outputs": [],
   "source": [
    "feature_names = vectorization.get_feature_names_out()\n",
    "wc = WordCloud(max_words=400)\n",
    "wc.generate(' '.join(word for word in feature_names[500:3500] ))\n",
    "plt.figure(figsize=(20,15))\n",
    "plt.axis('off')\n",
    "plt.imshow(wc)"
   ]
  },
  {
   "cell_type": "markdown",
   "id": "c5fd6999",
   "metadata": {},
   "source": [
    "### Train model"
   ]
  },
  {
   "cell_type": "code",
   "execution_count": null,
   "id": "d418319a",
   "metadata": {},
   "outputs": [],
   "source": [
    "def train_model(model, X_train, X_test, y_train, y_test):\n",
    "    model.fit(X_train, y_train)\n",
    "    y_pred = model.predict(X_test)\n",
    "    print(f\"score {model.score(xv_test, y_test)}\")\n",
    "    print(f\"classification report \\n {classification_report(y_test, y_pred)}\")\n"
   ]
  },
  {
   "cell_type": "code",
   "execution_count": null,
   "id": "c8ffe45a",
   "metadata": {},
   "outputs": [],
   "source": [
    "from sklearn.preprocessing import LabelEncoder\n",
    "\n",
    "target_encoder=LabelEncoder()\n",
    "y_train=target_encoder.fit_transform(y_train)\n",
    "y_test=target_encoder.transform(y_test)\n",
    "\n",
    "print(target_encoder.classes_)\n"
   ]
  },
  {
   "cell_type": "code",
   "execution_count": null,
   "id": "69dde9a0",
   "metadata": {},
   "outputs": [],
   "source": [
    "# LogisticRegression \n",
    "\n",
    "from sklearn.linear_model import LogisticRegression\n",
    "from sklearn.metrics import classification_report\n",
    "\n",
    "lr = LogisticRegression()\n",
    "train_model(lr, xv_train, xv_test, y_train, y_test)"
   ]
  },
  {
   "cell_type": "code",
   "execution_count": null,
   "id": "ac7a8670",
   "metadata": {},
   "outputs": [],
   "source": [
    "# Decision Tree Classifier \n",
    "\n",
    "from sklearn.tree import DecisionTreeClassifier\n",
    "dtc = DecisionTreeClassifier()\n",
    "train_model(dtc, xv_train, xv_test, y_train, y_test)"
   ]
  },
  {
   "cell_type": "code",
   "execution_count": null,
   "id": "0b71ebf2",
   "metadata": {},
   "outputs": [],
   "source": [
    "# Random Forest Classifier \n",
    "\n",
    "from sklearn.ensemble import RandomForestClassifier\n",
    "rfc = RandomForestClassifier() \n",
    "train_model(rfc, xv_train, xv_test, y_train, y_test)"
   ]
  },
  {
   "cell_type": "code",
   "execution_count": null,
   "id": "2b4cf5e3",
   "metadata": {},
   "outputs": [],
   "source": [
    "# Linear Support vector \n",
    "\n",
    "from sklearn.svm import SVC,LinearSVC\n",
    "lsvc = LinearSVC()\n",
    "train_model(lsvc, xv_train, xv_test, y_train, y_test)"
   ]
  },
  {
   "cell_type": "code",
   "execution_count": null,
   "id": "a1e08c99",
   "metadata": {},
   "outputs": [],
   "source": [
    "# Support vector \n",
    "\n",
    "svc = SVC()\n",
    "train_model(svc, xv_train, xv_test, y_train, y_test)"
   ]
  },
  {
   "cell_type": "code",
   "execution_count": null,
   "id": "d53930ac",
   "metadata": {},
   "outputs": [],
   "source": []
  },
  {
   "cell_type": "code",
   "execution_count": null,
   "id": "7dcda870",
   "metadata": {
    "scrolled": true
   },
   "outputs": [],
   "source": [
    "# XGBoost Classifier\n",
    "\n",
    "from xgboost import XGBClassifier\n",
    "\n",
    "xgb=XGBClassifier()\n",
    "train_model(xgb, xv_train, xv_test, y_train, y_test)"
   ]
  },
  {
   "cell_type": "code",
   "execution_count": null,
   "id": "daa05536",
   "metadata": {},
   "outputs": [],
   "source": []
  },
  {
   "cell_type": "code",
   "execution_count": null,
   "id": "69372f33",
   "metadata": {},
   "outputs": [],
   "source": [
    "# Gradient Boost\n",
    "\n",
    "from sklearn.ensemble import GradientBoostingClassifier\n",
    "gbc = GradientBoostingClassifier()\n",
    "train_model(gbc, xv_train, xv_test, y_train, y_test)"
   ]
  },
  {
   "cell_type": "code",
   "execution_count": null,
   "id": "3ff94654",
   "metadata": {},
   "outputs": [],
   "source": [
    "pip install catboost"
   ]
  },
  {
   "cell_type": "code",
   "execution_count": null,
   "id": "78d5d96d",
   "metadata": {},
   "outputs": [],
   "source": [
    "#CatBoostClassifier\n",
    "\n",
    "from catboost import CatBoostClassifier\n",
    "cbc = CatBoostClassifier()\n",
    "train_model(cbc, xv_train, xv_test, y_train, y_test)\n",
    "\n"
   ]
  },
  {
   "cell_type": "markdown",
   "id": "f6521774",
   "metadata": {},
   "source": [
    "### Manual testing"
   ]
  },
  {
   "cell_type": "code",
   "execution_count": 23,
   "id": "4cc512ec",
   "metadata": {},
   "outputs": [
    {
     "data": {
      "text/html": [
       "<div>\n",
       "<style scoped>\n",
       "    .dataframe tbody tr th:only-of-type {\n",
       "        vertical-align: middle;\n",
       "    }\n",
       "\n",
       "    .dataframe tbody tr th {\n",
       "        vertical-align: top;\n",
       "    }\n",
       "\n",
       "    .dataframe thead th {\n",
       "        text-align: right;\n",
       "    }\n",
       "</style>\n",
       "<table border=\"1\" class=\"dataframe\">\n",
       "  <thead>\n",
       "    <tr style=\"text-align: right;\">\n",
       "      <th></th>\n",
       "      <th>type</th>\n",
       "      <th>posts</th>\n",
       "      <th>type_encoded</th>\n",
       "    </tr>\n",
       "  </thead>\n",
       "  <tbody>\n",
       "    <tr>\n",
       "      <th>0</th>\n",
       "      <td>INFJ</td>\n",
       "      <td>intj moment sportscenter top ten play prank li...</td>\n",
       "      <td>8</td>\n",
       "    </tr>\n",
       "    <tr>\n",
       "      <th>1</th>\n",
       "      <td>ENTP</td>\n",
       "      <td>finding lack post alarming sex boring position...</td>\n",
       "      <td>3</td>\n",
       "    </tr>\n",
       "    <tr>\n",
       "      <th>2</th>\n",
       "      <td>INTP</td>\n",
       "      <td>good one course say know blessing curse absolu...</td>\n",
       "      <td>11</td>\n",
       "    </tr>\n",
       "    <tr>\n",
       "      <th>3</th>\n",
       "      <td>INTJ</td>\n",
       "      <td>dear intp enjoyed conversation day esoteric ga...</td>\n",
       "      <td>10</td>\n",
       "    </tr>\n",
       "    <tr>\n",
       "      <th>4</th>\n",
       "      <td>ENTJ</td>\n",
       "      <td>fired another silly misconception approaching ...</td>\n",
       "      <td>2</td>\n",
       "    </tr>\n",
       "    <tr>\n",
       "      <th>11</th>\n",
       "      <td>ENFJ</td>\n",
       "      <td>went break month ago together year planned lif...</td>\n",
       "      <td>0</td>\n",
       "    </tr>\n",
       "    <tr>\n",
       "      <th>17</th>\n",
       "      <td>INFP</td>\n",
       "      <td>think agree personally consider alpha beta fox...</td>\n",
       "      <td>9</td>\n",
       "    </tr>\n",
       "    <tr>\n",
       "      <th>26</th>\n",
       "      <td>ENFP</td>\n",
       "      <td>want go trip without staying behind option thi...</td>\n",
       "      <td>1</td>\n",
       "    </tr>\n",
       "    <tr>\n",
       "      <th>27</th>\n",
       "      <td>ISFP</td>\n",
       "      <td>paint without number guess istp best bud esfp ...</td>\n",
       "      <td>13</td>\n",
       "    </tr>\n",
       "    <tr>\n",
       "      <th>40</th>\n",
       "      <td>ISTP</td>\n",
       "      <td>got read enneagram though read somewhere lot m...</td>\n",
       "      <td>15</td>\n",
       "    </tr>\n",
       "    <tr>\n",
       "      <th>48</th>\n",
       "      <td>ISFJ</td>\n",
       "      <td>love feeling affectionate one love care care d...</td>\n",
       "      <td>12</td>\n",
       "    </tr>\n",
       "    <tr>\n",
       "      <th>88</th>\n",
       "      <td>ISTJ</td>\n",
       "      <td>newton universal gravity law mean seriously wo...</td>\n",
       "      <td>14</td>\n",
       "    </tr>\n",
       "    <tr>\n",
       "      <th>113</th>\n",
       "      <td>ESTP</td>\n",
       "      <td>splinter cell blacklist xbox estps generally w...</td>\n",
       "      <td>7</td>\n",
       "    </tr>\n",
       "    <tr>\n",
       "      <th>200</th>\n",
       "      <td>ESFP</td>\n",
       "      <td>edit forgot board currently reading artemis fo...</td>\n",
       "      <td>5</td>\n",
       "    </tr>\n",
       "    <tr>\n",
       "      <th>546</th>\n",
       "      <td>ESTJ</td>\n",
       "      <td>catch although quite terrible estj fi develope...</td>\n",
       "      <td>6</td>\n",
       "    </tr>\n",
       "    <tr>\n",
       "      <th>627</th>\n",
       "      <td>ESFJ</td>\n",
       "      <td>esfjs originally mistype nfp think increasingl...</td>\n",
       "      <td>4</td>\n",
       "    </tr>\n",
       "  </tbody>\n",
       "</table>\n",
       "</div>"
      ],
      "text/plain": [
       "     type                                              posts  type_encoded\n",
       "0    INFJ  intj moment sportscenter top ten play prank li...             8\n",
       "1    ENTP  finding lack post alarming sex boring position...             3\n",
       "2    INTP  good one course say know blessing curse absolu...            11\n",
       "3    INTJ  dear intp enjoyed conversation day esoteric ga...            10\n",
       "4    ENTJ  fired another silly misconception approaching ...             2\n",
       "11   ENFJ  went break month ago together year planned lif...             0\n",
       "17   INFP  think agree personally consider alpha beta fox...             9\n",
       "26   ENFP  want go trip without staying behind option thi...             1\n",
       "27   ISFP  paint without number guess istp best bud esfp ...            13\n",
       "40   ISTP  got read enneagram though read somewhere lot m...            15\n",
       "48   ISFJ  love feeling affectionate one love care care d...            12\n",
       "88   ISTJ  newton universal gravity law mean seriously wo...            14\n",
       "113  ESTP  splinter cell blacklist xbox estps generally w...             7\n",
       "200  ESFP  edit forgot board currently reading artemis fo...             5\n",
       "546  ESTJ  catch although quite terrible estj fi develope...             6\n",
       "627  ESFJ  esfjs originally mistype nfp think increasingl...             4"
      ]
     },
     "execution_count": 23,
     "metadata": {},
     "output_type": "execute_result"
    }
   ],
   "source": [
    "data_check_encoding = data_set.drop_duplicates('type')\n",
    "data_check_encoding"
   ]
  },
  {
   "cell_type": "code",
   "execution_count": null,
   "id": "55d9b289",
   "metadata": {},
   "outputs": [],
   "source": [
    "def output_status(type_encoded):\n",
    "    if type_encoded == 0:\n",
    "        return \"ENFJ\"\n",
    "    elif type_encoded == 1:\n",
    "        return\"ENFP\"\n",
    "    elif type_encoded == 2:\n",
    "        return\"ENTJ\"\n",
    "    elif type_encoded == 3:\n",
    "        return\"ENTP\"\n",
    "    elif type_encoded == 4:\n",
    "        return\"ESFJ\"\n",
    "    elif type_encoded == 5:\n",
    "        return\"ESFP\"\n",
    "    elif type_encoded == 6:\n",
    "        return\"ESTJ\"\n",
    "    elif type_encoded == 7:\n",
    "        return\"ESTP\"\n",
    "    elif type_encoded == 8:\n",
    "        return\"INFJ\"\n",
    "    elif type_encoded == 9:\n",
    "        return\"INFP\"\n",
    "    elif type_encoded == 10:\n",
    "        return\"INTJ\"\n",
    "    elif type_encoded == 11:\n",
    "        return\"INTP\"\n",
    "    elif type_encoded == 12:\n",
    "        return\"ISFJ\"\n",
    "    elif type_encoded == 13:\n",
    "        return\"ISFP\"\n",
    "    elif type_encoded == 14:\n",
    "        return\"ISTJ\"\n",
    "    elif type_encoded == 15:\n",
    "        return\"ISTP\"\n",
    "        \n",
    "def manual_testing(comments):\n",
    "    testing_comments = {\"text\": [comments]} #dictonary \n",
    "    df_test = pd.DataFrame(testing_comments)\n",
    "    df_test['text'] = df_test['text'].apply(pre_process_sentence)\n",
    "    new_x_test = df_test['text']\n",
    "    new_xv_test = vectorization.transform(new_x_test) #object vectorization is defined above_ tfidf\n",
    "    y_pred_lr = lr.predict(new_xv_test)\n",
    "    y_pred_dtc = dtc.predict(new_xv_test)\n",
    "    y_pred_rfc = rfc.predict(new_xv_test)\n",
    "    y_pred_lsvc = lsvc.predict(new_xv_test)\n",
    "    y_pred_svc = svc.predict(new_xv_test)\n",
    "    y_pred_xgb = xgb.predict(new_xv_test)\n",
    "    y_pred_gbc = gbc.predict(new_xv_test)\n",
    "#     y_pred_cbc = cbc.predict(new_xv_test)\n",
    "    return print('''prediction  \\n\\nLogistic Regression {}, \n",
    "                    \\nDecision tree {},\n",
    "                  \\nRandom forest {}, \n",
    "                  \\nLinear Support vector {}, \n",
    "                  \\nSupport vector {},\n",
    "                  \\nXGBoost classifier{},\n",
    "                  \\nGradient Boost {}''' .format(output_status(y_pred_lr[0]), \n",
    "                         output_status(y_pred_dtc[0]), \n",
    "                         output_status(y_pred_rfc[0]), \n",
    "                         output_status(y_pred_lsvc[0]),\n",
    "                         output_status(y_pred_svc[0]),\n",
    "                         output_status(y_pred_xgb[0]),\n",
    "                         output_status(y_pred_gbc[0])))"
   ]
  },
  {
   "cell_type": "code",
   "execution_count": null,
   "id": "1b1135b1",
   "metadata": {},
   "outputs": [],
   "source": [
    "comment = \"My treat of the day!  I recognise some interesting movement of my cravings towards meat these days - more specifically in the form of Köfte most recently. 🤤 I rode my bike to the restaurant for the pickup and as soon as I held this beauty in my hand it was obvious that this sandwich would never make it all the way home with me. I wanted the fresh taste when it was still nice and warm and I could not wait until I was home. With such lovely creations in my hands cold (or darkness) do not matter anymore. 😁And with the first bite I forgot everything else around me as well fully focusing on the amazing juicy, falling-apart-tender meat that seduced my tongue… 👌🏼 I was absolutely in my happy place! Thanks guys for making this happen! Because for me food alone is great but what makes it really outstanding are the people behind it, I wanted to leave a shoutout to the guys at the eatery because I exchanged a few messages with them on IG and I had a quick chat with one person when I picked up the sandwich. Absolutely lovely people! I am majorly excited for your next creation and am majorly happy that I was able to get my hands on this sandwich before its off the menu.\"\n"
   ]
  },
  {
   "cell_type": "code",
   "execution_count": null,
   "id": "eb5f4227",
   "metadata": {},
   "outputs": [],
   "source": [
    "manual_testing(comment)"
   ]
  },
  {
   "cell_type": "code",
   "execution_count": null,
   "id": "f691b722",
   "metadata": {},
   "outputs": [],
   "source": []
  }
 ],
 "metadata": {
  "kernelspec": {
   "display_name": "Python 3 (ipykernel)",
   "language": "python",
   "name": "python3"
  },
  "language_info": {
   "codemirror_mode": {
    "name": "ipython",
    "version": 3
   },
   "file_extension": ".py",
   "mimetype": "text/x-python",
   "name": "python",
   "nbconvert_exporter": "python",
   "pygments_lexer": "ipython3",
   "version": "3.10.9"
  }
 },
 "nbformat": 4,
 "nbformat_minor": 5
}
